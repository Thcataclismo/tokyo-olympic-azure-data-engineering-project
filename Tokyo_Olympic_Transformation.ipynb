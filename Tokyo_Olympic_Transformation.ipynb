{
  "nbformat": 4,
  "nbformat_minor": 0,
  "metadata": {
    "colab": {
      "provenance": [],
      "authorship_tag": "ABX9TyMf6ngVOIFD6PbE0nxd+8P7",
      "include_colab_link": true
    },
    "kernelspec": {
      "name": "python3",
      "display_name": "Python 3"
    },
    "language_info": {
      "name": "python"
    }
  },
  "cells": [
    {
      "cell_type": "markdown",
      "metadata": {
        "id": "view-in-github",
        "colab_type": "text"
      },
      "source": [
        "<a href=\"https://colab.research.google.com/github/Thcataclismo/tokyo-olympic-azure-data-engineering-project/blob/main/Tokyo_Olympic_Transformation.ipynb\" target=\"_parent\"><img src=\"https://colab.research.google.com/assets/colab-badge.svg\" alt=\"Open In Colab\"/></a>"
      ]
    },
    {
      "cell_type": "code",
      "source": [
        "!pip install pyspark"
      ],
      "metadata": {
        "colab": {
          "base_uri": "https://localhost:8080/"
        },
        "id": "sBXM5ZBLIRq-",
        "outputId": "1995ee47-9b66-45ea-959c-e977eb2097f9"
      },
      "execution_count": null,
      "outputs": [
        {
          "output_type": "stream",
          "name": "stdout",
          "text": [
            "Collecting pyspark\n",
            "  Downloading pyspark-3.5.0.tar.gz (316.9 MB)\n",
            "\u001b[2K     \u001b[90m━━━━━━━━━━━━━━━━━━━━━━━━━━━━━━━━━━━━━━━━\u001b[0m \u001b[32m316.9/316.9 MB\u001b[0m \u001b[31m4.6 MB/s\u001b[0m eta \u001b[36m0:00:00\u001b[0m\n",
            "\u001b[?25h  Preparing metadata (setup.py) ... \u001b[?25l\u001b[?25hdone\n",
            "Requirement already satisfied: py4j==0.10.9.7 in /usr/local/lib/python3.10/dist-packages (from pyspark) (0.10.9.7)\n",
            "Building wheels for collected packages: pyspark\n",
            "  Building wheel for pyspark (setup.py) ... \u001b[?25l\u001b[?25hdone\n",
            "  Created wheel for pyspark: filename=pyspark-3.5.0-py2.py3-none-any.whl size=317425344 sha256=9a971c9b4f05e958eef2e3b48a61a231dbcb137f04b2668481c15cb1acd8bdfa\n",
            "  Stored in directory: /root/.cache/pip/wheels/41/4e/10/c2cf2467f71c678cfc8a6b9ac9241e5e44a01940da8fbb17fc\n",
            "Successfully built pyspark\n",
            "Installing collected packages: pyspark\n",
            "Successfully installed pyspark-3.5.0\n"
          ]
        }
      ]
    },
    {
      "cell_type": "code",
      "execution_count": null,
      "metadata": {
        "id": "CBWVFnMSD30_"
      },
      "outputs": [],
      "source": [
        "from pyspark.sql.functions import col\n",
        "from pyspark.sql.types import IntegerType, DoubleType, BooleanType, DateType"
      ]
    },
    {
      "cell_type": "code",
      "source": [
        "configs = {\"fs.azure.account.auth.type\": \"OAuth\",\n",
        "\"fs.azure.account.oauth.provider.type\": \"org.apache.hadoop.fs.azurebfs.oauth2.ClientCredsTokenProvider\",\n",
        "\"fs.azure.account.oauth2.client.id\": \"\",\n",
        "\"fs.azure.account.oauth2.client.secret\": '',\n",
        "\"fs.azure.account.oauth2.client.endpoint\": \"https://login.microsoftonline.com/tanent_id/oauth2/token\"}\n",
        "\n",
        "\n",
        "dbutils.fs.mount(\n",
        "source = \"abfss://tokyo-olympic-data@tokyoolympicdata.dfs.core.windows.net\", # contrainer@storageacc\n",
        "mount_point = \"/mnt/tokyoolymic\",\n",
        "extra_configs = configs)"
      ],
      "metadata": {
        "id": "kgdXISfQPNoF"
      },
      "execution_count": null,
      "outputs": []
    },
    {
      "cell_type": "code",
      "source": [
        "%fs\n",
        "ls \"/mnt/tokyoolymic\""
      ],
      "metadata": {
        "id": "W_sH2HsZPRbi"
      },
      "execution_count": null,
      "outputs": []
    },
    {
      "cell_type": "code",
      "source": [
        "from pyspark.sql import SparkSession\n",
        "\n",
        "# Crie uma instância do SparkSession\n",
        "spark = SparkSession.builder.appName(\"ExemploSpark\").getOrCreate()"
      ],
      "metadata": {
        "id": "bD0WejxTHwgS"
      },
      "execution_count": null,
      "outputs": []
    },
    {
      "cell_type": "code",
      "source": [
        "athletes = spark.read.format(\"csv\").option(\"header\",\"true\").option(\"inferSchema\",\"true\").load(\"/content/Athletes.csv\")\n",
        "coaches = spark.read.format(\"csv\").option(\"header\",\"true\").option(\"inferSchema\",\"true\").load(\"/content/Coaches.csv\")\n",
        "entriesgender = spark.read.format(\"csv\").option(\"header\",\"true\").option(\"inferSchema\",\"true\").load(\"/content/EntriesGender.csv\")\n",
        "medals = spark.read.format(\"csv\").option(\"header\",\"true\").option(\"inferSchema\",\"true\").load(\"/content/Medals.csv\")\n",
        "teams = spark.read.format(\"csv\").option(\"header\",\"true\").option(\"inferSchema\",\"true\").load(\"/content/Teams.csv\")"
      ],
      "metadata": {
        "id": "rG2nQdOuIfhW"
      },
      "execution_count": null,
      "outputs": []
    },
    {
      "cell_type": "markdown",
      "source": [
        "A função \"Show()\" serve para poder vizualizar as linhas e colunas do dataframe, geralmente imprime as primeiras 20 linhas"
      ],
      "metadata": {
        "id": "T5fbJCULLFGX"
      }
    },
    {
      "cell_type": "code",
      "source": [
        "athletes.show()"
      ],
      "metadata": {
        "colab": {
          "base_uri": "https://localhost:8080/"
        },
        "id": "MoTgOBBAI_Bl",
        "outputId": "7a641cdc-5b62-4554-e059-964dbd48d156"
      },
      "execution_count": null,
      "outputs": [
        {
          "output_type": "stream",
          "name": "stdout",
          "text": [
            "+--------------------+--------------------+-------------------+\n",
            "|          PersonName|             Country|         Discipline|\n",
            "+--------------------+--------------------+-------------------+\n",
            "|     AALERUD Katrine|              Norway|       Cycling Road|\n",
            "|         ABAD Nestor|               Spain|Artistic Gymnastics|\n",
            "|   ABAGNALE Giovanni|               Italy|             Rowing|\n",
            "|      ABALDE Alberto|               Spain|         Basketball|\n",
            "|       ABALDE Tamara|               Spain|         Basketball|\n",
            "|           ABALO Luc|              France|           Handball|\n",
            "|        ABAROA Cesar|               Chile|             Rowing|\n",
            "|       ABASS Abobakr|               Sudan|           Swimming|\n",
            "|    ABBASALI Hamideh|Islamic Republic ...|             Karate|\n",
            "|       ABBASOV Islam|          Azerbaijan|          Wrestling|\n",
            "|        ABBINGH Lois|         Netherlands|           Handball|\n",
            "|         ABBOT Emily|           Australia|Rhythmic Gymnastics|\n",
            "|       ABBOTT Monica|United States of ...|  Baseball/Softball|\n",
            "|ABDALLA Abubaker ...|               Qatar|          Athletics|\n",
            "|      ABDALLA Maryam|               Egypt|  Artistic Swimming|\n",
            "|      ABDALLAH Shahd|               Egypt|  Artistic Swimming|\n",
            "| ABDALRASOOL Mohamed|               Sudan|               Judo|\n",
            "|   ABDEL LATIF Radwa|               Egypt|           Shooting|\n",
            "|    ABDEL RAZEK Samy|               Egypt|           Shooting|\n",
            "|   ABDELAZIZ Abdalla|               Egypt|             Karate|\n",
            "+--------------------+--------------------+-------------------+\n",
            "only showing top 20 rows\n",
            "\n"
          ]
        }
      ]
    },
    {
      "cell_type": "markdown",
      "source": [
        "Quando você chama printSchema() em um DataFrame, ele exibe uma representação hierárquica da estrutura de colunas, mostrando os nomes das colunas e os tipos de dados associados a cada uma."
      ],
      "metadata": {
        "id": "tcvDdJt6Lpwb"
      }
    },
    {
      "cell_type": "code",
      "source": [
        "athletes.printSchema()"
      ],
      "metadata": {
        "colab": {
          "base_uri": "https://localhost:8080/"
        },
        "id": "_24VmvCGI_ea",
        "outputId": "5de973cc-a5a3-4d12-c1e5-4d977dab00d2"
      },
      "execution_count": null,
      "outputs": [
        {
          "output_type": "stream",
          "name": "stdout",
          "text": [
            "root\n",
            " |-- PersonName: string (nullable = true)\n",
            " |-- Country: string (nullable = true)\n",
            " |-- Discipline: string (nullable = true)\n",
            "\n"
          ]
        }
      ]
    },
    {
      "cell_type": "code",
      "source": [
        "coaches.show()"
      ],
      "metadata": {
        "colab": {
          "base_uri": "https://localhost:8080/"
        },
        "id": "Z6bKciYaJnor",
        "outputId": "41eda482-974a-481f-ba6a-0db673d83bba"
      },
      "execution_count": null,
      "outputs": [
        {
          "output_type": "stream",
          "name": "stdout",
          "text": [
            "+--------------------+--------------------+-----------------+--------+\n",
            "|                Name|             Country|       Discipline|   Event|\n",
            "+--------------------+--------------------+-----------------+--------+\n",
            "|     ABDELMAGID Wael|               Egypt|         Football|    NULL|\n",
            "|           ABE Junya|               Japan|       Volleyball|    NULL|\n",
            "|       ABE Katsuhiko|               Japan|       Basketball|    NULL|\n",
            "|        ADAMA Cherif|       C�te d'Ivoire|         Football|    NULL|\n",
            "|          AGEBA Yuya|               Japan|       Volleyball|    NULL|\n",
            "|AIKMAN Siegfried ...|               Japan|           Hockey|     Men|\n",
            "|       AL SAADI Kais|             Germany|           Hockey|     Men|\n",
            "|       ALAMEDA Lonni|              Canada|Baseball/Softball|Softball|\n",
            "|     ALEKNO Vladimir|Islamic Republic ...|       Volleyball|     Men|\n",
            "|     ALEKSEEV Alexey|                 ROC|         Handball|   Women|\n",
            "|ALLER CARBALLO Ma...|               Spain|       Basketball|    NULL|\n",
            "|       ALSHEHRI Saad|        Saudi Arabia|         Football|     Men|\n",
            "|           ALY Kamal|               Egypt|         Football|    NULL|\n",
            "| AMAYA GAITAN Fabian|         Puerto Rico|       Basketball|    NULL|\n",
            "|    AMO AGUADO Pablo|               Spain|         Football|    NULL|\n",
            "|   ANDONOVSKI Vlatko|United States of ...|         Football|   Women|\n",
            "|        ANNAN Alyson|         Netherlands|           Hockey|   Women|\n",
            "|  ARNAU CREUS Xavier|               Japan|           Hockey|   Women|\n",
            "|       ARNOLD Graham|           Australia|         Football|     Men|\n",
            "|         AXNER Tomas|              Sweden|         Handball|   Women|\n",
            "+--------------------+--------------------+-----------------+--------+\n",
            "only showing top 20 rows\n",
            "\n"
          ]
        }
      ]
    },
    {
      "cell_type": "code",
      "source": [
        "coaches.printSchema()"
      ],
      "metadata": {
        "colab": {
          "base_uri": "https://localhost:8080/"
        },
        "id": "UosixuK2JrUK",
        "outputId": "b3cb8d6f-d8cd-4c4a-908f-dbb4bacb264c"
      },
      "execution_count": null,
      "outputs": [
        {
          "output_type": "stream",
          "name": "stdout",
          "text": [
            "root\n",
            " |-- Name: string (nullable = true)\n",
            " |-- Country: string (nullable = true)\n",
            " |-- Discipline: string (nullable = true)\n",
            " |-- Event: string (nullable = true)\n",
            "\n"
          ]
        }
      ]
    },
    {
      "cell_type": "code",
      "source": [
        "entriesgender.printSchema()"
      ],
      "metadata": {
        "colab": {
          "base_uri": "https://localhost:8080/"
        },
        "id": "scPCS5I9JwQd",
        "outputId": "ace1fbf1-2f61-47d6-a204-a45c49da5901"
      },
      "execution_count": null,
      "outputs": [
        {
          "output_type": "stream",
          "name": "stdout",
          "text": [
            "root\n",
            " |-- Discipline: string (nullable = true)\n",
            " |-- Female: integer (nullable = true)\n",
            " |-- Male: integer (nullable = true)\n",
            " |-- Total: integer (nullable = true)\n",
            "\n"
          ]
        }
      ]
    },
    {
      "cell_type": "code",
      "source": [
        "# Essa função converte colunas em um DataFrame PySpark para inteiros e cria novas colunas.\n",
        "entriesgender = entriesgender.withColumn(\"Female\",col(\"Female\").cast(IntegerType()))\\\n",
        "    .withColumn(\"Male\",col(\"Male\").cast(IntegerType()))\\\n",
        "    .withColumn(\"Total\",col(\"Total\").cast(IntegerType()))"
      ],
      "metadata": {
        "id": "NZ_9D-E3JzHD"
      },
      "execution_count": null,
      "outputs": []
    },
    {
      "cell_type": "code",
      "source": [
        "entriesgender.printSchema()"
      ],
      "metadata": {
        "colab": {
          "base_uri": "https://localhost:8080/"
        },
        "id": "aEG-nBd1J84W",
        "outputId": "fe177545-483d-445b-a7c2-a489984b671b"
      },
      "execution_count": null,
      "outputs": [
        {
          "output_type": "stream",
          "name": "stdout",
          "text": [
            "root\n",
            " |-- Discipline: string (nullable = true)\n",
            " |-- Female: integer (nullable = true)\n",
            " |-- Male: integer (nullable = true)\n",
            " |-- Total: integer (nullable = true)\n",
            "\n"
          ]
        }
      ]
    },
    {
      "cell_type": "code",
      "source": [
        "medals.show()"
      ],
      "metadata": {
        "colab": {
          "base_uri": "https://localhost:8080/"
        },
        "id": "5o0WO7RxKAha",
        "outputId": "b65b62e7-17ab-4086-a5ea-bbea5c308a6a"
      },
      "execution_count": null,
      "outputs": [
        {
          "output_type": "stream",
          "name": "stdout",
          "text": [
            "+----+--------------------+----+------+------+-----+-------------+\n",
            "|Rank|        Team_Country|Gold|Silver|Bronze|Total|Rank by Total|\n",
            "+----+--------------------+----+------+------+-----+-------------+\n",
            "|   1|United States of ...|  39|    41|    33|  113|            1|\n",
            "|   2|People's Republic...|  38|    32|    18|   88|            2|\n",
            "|   3|               Japan|  27|    14|    17|   58|            5|\n",
            "|   4|       Great Britain|  22|    21|    22|   65|            4|\n",
            "|   5|                 ROC|  20|    28|    23|   71|            3|\n",
            "|   6|           Australia|  17|     7|    22|   46|            6|\n",
            "|   7|         Netherlands|  10|    12|    14|   36|            9|\n",
            "|   8|              France|  10|    12|    11|   33|           10|\n",
            "|   9|             Germany|  10|    11|    16|   37|            8|\n",
            "|  10|               Italy|  10|    10|    20|   40|            7|\n",
            "|  11|              Canada|   7|     6|    11|   24|           11|\n",
            "|  12|              Brazil|   7|     6|     8|   21|           12|\n",
            "|  13|         New Zealand|   7|     6|     7|   20|           13|\n",
            "|  14|                Cuba|   7|     3|     5|   15|           18|\n",
            "|  15|             Hungary|   6|     7|     7|   20|           13|\n",
            "|  16|   Republic of Korea|   6|     4|    10|   20|           13|\n",
            "|  17|              Poland|   4|     5|     5|   14|           19|\n",
            "|  18|      Czech Republic|   4|     4|     3|   11|           23|\n",
            "|  19|               Kenya|   4|     4|     2|   10|           25|\n",
            "|  20|              Norway|   4|     2|     2|    8|           29|\n",
            "+----+--------------------+----+------+------+-----+-------------+\n",
            "only showing top 20 rows\n",
            "\n"
          ]
        }
      ]
    },
    {
      "cell_type": "code",
      "source": [
        "medals.printSchema()"
      ],
      "metadata": {
        "colab": {
          "base_uri": "https://localhost:8080/"
        },
        "id": "2AnH5tMTKDBY",
        "outputId": "78e068ef-a1f0-41b6-a258-63db17ee85ec"
      },
      "execution_count": null,
      "outputs": [
        {
          "output_type": "stream",
          "name": "stdout",
          "text": [
            "root\n",
            " |-- Rank: integer (nullable = true)\n",
            " |-- Team_Country: string (nullable = true)\n",
            " |-- Gold: integer (nullable = true)\n",
            " |-- Silver: integer (nullable = true)\n",
            " |-- Bronze: integer (nullable = true)\n",
            " |-- Total: integer (nullable = true)\n",
            " |-- Rank by Total: integer (nullable = true)\n",
            "\n"
          ]
        }
      ]
    },
    {
      "cell_type": "code",
      "source": [
        "teams.show()"
      ],
      "metadata": {
        "colab": {
          "base_uri": "https://localhost:8080/"
        },
        "id": "t3Uaaj4KKHKx",
        "outputId": "931a15ac-75f5-47a1-9699-a632af11e064"
      },
      "execution_count": null,
      "outputs": [
        {
          "output_type": "stream",
          "name": "stdout",
          "text": [
            "+-------------+--------------+--------------------+------------+\n",
            "|     TeamName|    Discipline|             Country|       Event|\n",
            "+-------------+--------------+--------------------+------------+\n",
            "|      Belgium|3x3 Basketball|             Belgium|         Men|\n",
            "|        China|3x3 Basketball|People's Republic...|         Men|\n",
            "|        China|3x3 Basketball|People's Republic...|       Women|\n",
            "|       France|3x3 Basketball|              France|       Women|\n",
            "|        Italy|3x3 Basketball|               Italy|       Women|\n",
            "|        Japan|3x3 Basketball|               Japan|         Men|\n",
            "|        Japan|3x3 Basketball|               Japan|       Women|\n",
            "|       Latvia|3x3 Basketball|              Latvia|         Men|\n",
            "|     Mongolia|3x3 Basketball|            Mongolia|       Women|\n",
            "|  Netherlands|3x3 Basketball|         Netherlands|         Men|\n",
            "|       Poland|3x3 Basketball|              Poland|         Men|\n",
            "|          ROC|3x3 Basketball|                 ROC|         Men|\n",
            "|          ROC|3x3 Basketball|                 ROC|       Women|\n",
            "|      Romania|3x3 Basketball|             Romania|       Women|\n",
            "|       Serbia|3x3 Basketball|              Serbia|         Men|\n",
            "|United States|3x3 Basketball|United States of ...|       Women|\n",
            "|    Australia|       Archery|           Australia|  Men's Team|\n",
            "|    Australia|       Archery|           Australia|  Mixed Team|\n",
            "|   Bangladesh|       Archery|          Bangladesh|  Mixed Team|\n",
            "|      Belarus|       Archery|             Belarus|Women's Team|\n",
            "+-------------+--------------+--------------------+------------+\n",
            "only showing top 20 rows\n",
            "\n"
          ]
        }
      ]
    },
    {
      "cell_type": "code",
      "source": [
        "teams.printSchema()"
      ],
      "metadata": {
        "colab": {
          "base_uri": "https://localhost:8080/"
        },
        "id": "XvXmaAv6KJSN",
        "outputId": "6b0673cf-e8a2-42d6-b5dc-d4dff505c14d"
      },
      "execution_count": null,
      "outputs": [
        {
          "output_type": "stream",
          "name": "stdout",
          "text": [
            "root\n",
            " |-- TeamName: string (nullable = true)\n",
            " |-- Discipline: string (nullable = true)\n",
            " |-- Country: string (nullable = true)\n",
            " |-- Event: string (nullable = true)\n",
            "\n"
          ]
        }
      ]
    },
    {
      "cell_type": "code",
      "source": [
        "# Encontrando os principais países com o maior número de medalhas de ouro\n",
        "top_gold_medal_countries = medals.orderBy(\"Gold\", ascending=False).select(\"Team_Country\",\"Gold\").show()"
      ],
      "metadata": {
        "colab": {
          "base_uri": "https://localhost:8080/"
        },
        "id": "lYb08JjkKL3Z",
        "outputId": "3d63e739-7080-4013-997a-197d41e7db5a"
      },
      "execution_count": null,
      "outputs": [
        {
          "output_type": "stream",
          "name": "stdout",
          "text": [
            "+--------------------+----+\n",
            "|        Team_Country|Gold|\n",
            "+--------------------+----+\n",
            "|United States of ...|  39|\n",
            "|People's Republic...|  38|\n",
            "|               Japan|  27|\n",
            "|       Great Britain|  22|\n",
            "|                 ROC|  20|\n",
            "|           Australia|  17|\n",
            "|         Netherlands|  10|\n",
            "|              France|  10|\n",
            "|             Germany|  10|\n",
            "|               Italy|  10|\n",
            "|              Canada|   7|\n",
            "|              Brazil|   7|\n",
            "|         New Zealand|   7|\n",
            "|                Cuba|   7|\n",
            "|             Hungary|   6|\n",
            "|   Republic of Korea|   6|\n",
            "|              Poland|   4|\n",
            "|      Czech Republic|   4|\n",
            "|               Kenya|   4|\n",
            "|              Norway|   4|\n",
            "+--------------------+----+\n",
            "only showing top 20 rows\n",
            "\n"
          ]
        }
      ]
    },
    {
      "cell_type": "code",
      "source": [
        "# Calcular a média de inscrições por gênero para cada disciplina\n",
        "average_entries_by_gender = entriesgender.withColumn(\n",
        "    'Avg_Female', entriesgender['Female'] / entriesgender['Total']\n",
        ").withColumn(\n",
        "    'Avg_Male', entriesgender['Male'] / entriesgender['Total']\n",
        ")\n",
        "average_entries_by_gender.show()"
      ],
      "metadata": {
        "colab": {
          "base_uri": "https://localhost:8080/"
        },
        "id": "G-dGpKJPKOa_",
        "outputId": "d477f193-0ced-4c77-93b1-628cb9979ff5"
      },
      "execution_count": null,
      "outputs": [
        {
          "output_type": "stream",
          "name": "stdout",
          "text": [
            "+--------------------+------+----+-----+-------------------+-------------------+\n",
            "|          Discipline|Female|Male|Total|         Avg_Female|           Avg_Male|\n",
            "+--------------------+------+----+-----+-------------------+-------------------+\n",
            "|      3x3 Basketball|    32|  32|   64|                0.5|                0.5|\n",
            "|             Archery|    64|  64|  128|                0.5|                0.5|\n",
            "| Artistic Gymnastics|    98|  98|  196|                0.5|                0.5|\n",
            "|   Artistic Swimming|   105|   0|  105|                1.0|                0.0|\n",
            "|           Athletics|   969|1072| 2041| 0.4747672709456149| 0.5252327290543851|\n",
            "|           Badminton|    86|  87|  173|0.49710982658959535| 0.5028901734104047|\n",
            "|   Baseball/Softball|    90| 144|  234|0.38461538461538464| 0.6153846153846154|\n",
            "|          Basketball|   144| 144|  288|                0.5|                0.5|\n",
            "|    Beach Volleyball|    48|  48|   96|                0.5|                0.5|\n",
            "|              Boxing|   102| 187|  289|0.35294117647058826| 0.6470588235294118|\n",
            "|        Canoe Slalom|    41|  41|   82|                0.5|                0.5|\n",
            "|        Canoe Sprint|   123| 126|  249| 0.4939759036144578| 0.5060240963855421|\n",
            "|Cycling BMX Frees...|    10|   9|   19| 0.5263157894736842|0.47368421052631576|\n",
            "|  Cycling BMX Racing|    24|  24|   48|                0.5|                0.5|\n",
            "|Cycling Mountain ...|    38|  38|   76|                0.5|                0.5|\n",
            "|        Cycling Road|    70| 131|  201| 0.3482587064676617| 0.6517412935323383|\n",
            "|       Cycling Track|    90|  99|  189|0.47619047619047616| 0.5238095238095238|\n",
            "|              Diving|    72|  71|  143| 0.5034965034965035| 0.4965034965034965|\n",
            "|          Equestrian|    73| 125|  198| 0.3686868686868687| 0.6313131313131313|\n",
            "|             Fencing|   107| 108|  215|0.49767441860465117| 0.5023255813953489|\n",
            "+--------------------+------+----+-----+-------------------+-------------------+\n",
            "only showing top 20 rows\n",
            "\n"
          ]
        }
      ]
    },
    {
      "cell_type": "code",
      "source": [
        "# Esta função grava os dados do DataFrame \"athletes\" em um único arquivo CSV, substituindo qualquer arquivo existente no local especificado.\n",
        "athletes.repartition(1).write.mode(\"overwrite\").option(\"header\",'true').csv(\"/mnt/tokyoolymic/transformed-data/athletes\")"
      ],
      "metadata": {
        "id": "LrIFLhHxKRZL"
      },
      "execution_count": null,
      "outputs": []
    },
    {
      "cell_type": "code",
      "source": [
        "# Grava DataFrames em arquivos CSV separados, com um cabeçalho, sobrescrevendo os existentes e usando apenas uma partição para cada arquivo.\n",
        "coaches.repartition(1).write.mode(\"overwrite\").option(\"header\",\"true\").csv(\"/mnt/tokyoolymic/transformed-data/coaches\")\n",
        "entriesgender.repartition(1).write.mode(\"overwrite\").option(\"header\",\"true\").csv(\"/mnt/tokyoolymic/transformed-data/entriesgender\")\n",
        "medals.repartition(1).write.mode(\"overwrite\").option(\"header\",\"true\").csv(\"/mnt/tokyoolymic/transformed-data/medals\")\n",
        "teams.repartition(1).write.mode(\"overwrite\").option(\"header\",\"true\").csv(\"/mnt/tokyoolymic/transformed-data/teams\")"
      ],
      "metadata": {
        "id": "95Na6JFfKVxA"
      },
      "execution_count": null,
      "outputs": []
    }
  ]
}